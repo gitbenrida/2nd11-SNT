{
 "cells": [
  {
   "cell_type": "markdown",
   "metadata": {},
   "source": [
    "# Exercice 10 page 144\n",
    "* Les lignes 1 et 2 permettent la saisie de l’identifiant et du mot de passe.\n",
    "* Ligne 4, l’affichage est effectué si la condition de la ligne 3 est vérifiée."
   ]
  },
  {
   "cell_type": "code",
   "execution_count": null,
   "metadata": {
    "scrolled": false
   },
   "outputs": [],
   "source": [
    "identifiant = input (\"Identifiant ?\")\n",
    "motDePasse = input (\"mot de passe ?\")\n",
    "if identifiant==\"Ktimo2004\" and motDePasse==\"Mprx24$\":\n",
    "    print(\"connexion autorisée\")"
   ]
  },
  {
   "cell_type": "markdown",
   "metadata": {},
   "source": [
    "1. Que fait ce programme ?"
   ]
  },
  {
   "cell_type": "markdown",
   "metadata": {},
   "source": []
  },
  {
   "cell_type": "markdown",
   "metadata": {},
   "source": [
    "2. Que faut-il ajouter à ce programme pour qu’il affiche Connexion refusée si l’identifiant ou le mot de passe ne sont pas bons ?"
   ]
  },
  {
   "cell_type": "code",
   "execution_count": null,
   "metadata": {},
   "outputs": [],
   "source": [
    "identifiant = input (\"Identifiant ?\")\n",
    "motDePasse = input (\"mot de passe ?\")\n",
    "if identifiant==\"Ktimo2004\" and motDePasse==\"Mprx24$\":\n",
    "    print(\"connexion autorisée\")\n",
    "    \n",
    "    "
   ]
  },
  {
   "cell_type": "markdown",
   "metadata": {},
   "source": [
    "3. Réécrire un programme qui affiche :\n",
    "  - Cet utilisateur n’est pas reconnu si l’identifiant n’est pas le bon ;\n",
    "  - Le mot de passe est faux si l’identifiant est le bon mais pas le mot de passe ;\n",
    "  - Connexion autorisée si l’identifiant et le mot de passe sont corrects"
   ]
  },
  {
   "cell_type": "code",
   "execution_count": null,
   "metadata": {},
   "outputs": [],
   "source": [
    "identifiant = input(“Identifiant ?”)\n",
    "motDePasse = input(“Mot de passe ?”)\n"
   ]
  },
  {
   "cell_type": "code",
   "execution_count": null,
   "metadata": {},
   "outputs": [],
   "source": []
  }
 ],
 "metadata": {
  "kernelspec": {
   "display_name": "Python 3",
   "language": "python",
   "name": "python3"
  },
  "language_info": {
   "codemirror_mode": {
    "name": "ipython",
    "version": 3
   },
   "file_extension": ".py",
   "mimetype": "text/x-python",
   "name": "python",
   "nbconvert_exporter": "python",
   "pygments_lexer": "ipython3",
   "version": "3.7.6"
  }
 },
 "nbformat": 4,
 "nbformat_minor": 4
}
